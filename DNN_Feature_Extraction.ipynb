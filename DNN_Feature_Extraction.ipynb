{
  "cells": [
    {
      "cell_type": "markdown",
      "metadata": {
        "id": "3EU9nI8EWbrS"
      },
      "source": [
        "# Deep Neural Networks for Nonlinear Feature Extraction\n",
        "\n",
        "## By Mustafa Yildirim\n",
        "\n"
      ]
    },
    {
      "cell_type": "code",
      "execution_count": null,
      "metadata": {
        "colab": {
          "base_uri": "https://localhost:8080/"
        },
        "id": "FLZvnn7_HVv2",
        "outputId": "75e30e1d-5225-4ffb-8e21-f9ab47d0be87"
      },
      "outputs": [
        {
          "name": "stdout",
          "output_type": "stream",
          "text": [
            "Processing file 1Jf2XqGR7y1fzOZNKLJiom7GmZZUzXhfs t10k-images-idx3-ubyte\n",
            "Processing file 1qiYu9dW3ZNrlvTFO5fI4qf8Wtr8K-pCu t10k-labels-idx1-ubyte\n",
            "Processing file 1SnWvBcUETRJ53rEJozFUUo-hOQFPKxjp train-images-idx3-ubyte\n",
            "Processing file 1kKEIi_pwVHmabByAnwZQsaMgro9XiBFE train-labels-idx1-ubyte\n",
            "Collecting python_mnist\n",
            "  Downloading python_mnist-0.7-py2.py3-none-any.whl.metadata (3.5 kB)\n",
            "Downloading python_mnist-0.7-py2.py3-none-any.whl (9.6 kB)\n",
            "Installing collected packages: python_mnist\n",
            "Successfully installed python_mnist-0.7\n"
          ]
        }
      ],
      "source": [
        "# download MNIST data from Google drive\n",
        "\n",
        "!gdown --folder https://drive.google.com/drive/folders/1r20aRjc2iu9O3kN3Xj9jNYY2uMgcERY1 2> /dev/null\n",
        "\n",
        "# install python_mnist\n",
        "\n",
        "!pip install python_mnist"
      ]
    },
    {
      "cell_type": "code",
      "execution_count": null,
      "metadata": {
        "id": "kg4JTEW4ebjF"
      },
      "outputs": [],
      "source": [
        "from mnist import MNIST\n",
        "import numpy as np\n",
        "import jax.numpy as jnp\n",
        "import jax.nn as jnn\n",
        "from jax import grad, random, device_put\n",
        "import matplotlib.pyplot as plt\n",
        "from sklearn.svm import SVC"
      ]
    },
    {
      "cell_type": "code",
      "execution_count": null,
      "metadata": {
        "colab": {
          "base_uri": "https://localhost:8080/"
        },
        "id": "cKItemHvHV7B",
        "outputId": "4e3099d8-3065-4cf2-ab01-72cbcc73a5d4"
      },
      "outputs": [
        {
          "name": "stdout",
          "output_type": "stream",
          "text": [
            "(60000, 784) (60000,) (10000, 784) (10000,) (60000, 10)\n"
          ]
        }
      ],
      "source": [
        "#load MINST images\n",
        "mnist_loader = MNIST('MNIST')\n",
        "train_data, train_label = mnist_loader.load_training()\n",
        "test_data, test_label = mnist_loader.load_testing()\n",
        "X_train = np.array(train_data, dtype='float')/255.0 # norm to [0,1]\n",
        "y_train = np.array(train_label, dtype='short')\n",
        "X_test = np.array(test_data, dtype='float')/255.0 # norm to [0,1]\n",
        "y_test = np.array(test_label, dtype='short')\n",
        "\n",
        "# convert MNIST training labels into 10-D one-hot vectors\n",
        "Y_train = np.zeros((y_train.size, y_train.max()+1))\n",
        "Y_train[np.arange(y_train.size),y_train] = 1\n",
        "\n",
        "print(X_train.shape, y_train.shape, X_test.shape, y_test.shape, Y_train.shape)"
      ]
    },
    {
      "cell_type": "code",
      "execution_count": null,
      "metadata": {
        "id": "98Slz35lHV9O"
      },
      "outputs": [],
      "source": [
        "# implement fully-connected neural networks using JAX and jax.grad()\n",
        "class myMLP3():\n",
        "  def __init__(self, optimizer='sgd', debug=0, struct=[], activation='relu',\\\n",
        "               loss='ce', lr=1.0, max_epochs=10, batch_size=10, random_state=1,\\\n",
        "               init_range=1.0, annealing=1.0):\n",
        "    self.optimizer = optimizer     # which optimizer is used to learn\n",
        "    self.lr = lr                   # initial learning rate in SGD\n",
        "    self.annealing = annealing     # annealing rate in SGD\n",
        "    self.max_epochs = max_epochs   # max epochs in optimization\n",
        "    self.batch_size = batch_size   # mini-batch size in SGD\n",
        "    self.debug = debug             # whether print debugging info\n",
        "    self.activation=activation     # activation function\n",
        "    self.loss = loss               # the loss used for training objective\n",
        "    self.random_state=random_state # random state\n",
        "    self.init_range=init_range     # range for initializing weights\n",
        "\n",
        "    self.struct = struct           # network structure: e.g. [100], [500, 200],\n",
        "                                   #                         [100,100,100]\n",
        "\n",
        "  # initialize internal struct/variables for input/output\n",
        "  # X[N,d]: input features; Y[N,K]: 1-of-K one-hot vectors for output targets\n",
        "  def initialization(self, X, Y):\n",
        "    key = random.PRNGKey(self.random_state)\n",
        "\n",
        "    input = X.shape[1]                # input dimension\n",
        "    self.layers = len(self.struct)    # number of hidden layers\n",
        "    self.W_b = [0]*(self.layers+1)    # list for all weight matrices\n",
        "\n",
        "    # create weight matrices for all hidden layers\n",
        "    for l in range(self.layers):\n",
        "      output = self.struct[l]\n",
        "      self.W_b[l] = device_put(4.90*(random.uniform(key,(input+1, output))-0.5)*self.init_range/jnp.sqrt(output+input))\n",
        "      input = output\n",
        "\n",
        "    # create weight matrix for output layer\n",
        "    output = Y.shape[1]\n",
        "    self.W_b[self.layers] = device_put(4.90*(random.uniform(key,(input+1, output))-0.5)*self.init_range/jnp.sqrt(output+input))\n",
        "\n",
        "    return\n",
        "\n",
        "  # forward pass to compute outputs for a mini-batch X\n",
        "  # (refer to the box on page 166)\n",
        "  # input  =>  X[B,d]: a batch of input vectors\n",
        "  # return =>  y[B,K]\n",
        "  def forward(self, W_b, X):\n",
        "\n",
        "    # appending 1's to accomodate bias (see page 107)\n",
        "    Z = jnp.hstack((X,jnp.ones((X.shape[0],1),dtype=X.dtype)))\n",
        "\n",
        "    # forward pass from all hidden layers\n",
        "    for l in range(self.layers):\n",
        "      Z = jnn.relu(Z @ W_b[l])\n",
        "      Z = jnp.hstack((Z,jnp.ones((Z.shape[0],1),dtype=Z.dtype)))\n",
        "\n",
        "    # forward pass for output layer\n",
        "    l = self.layers\n",
        "    y = jnn.softmax(Z @ W_b[l], axis=1)\n",
        "\n",
        "    return y\n",
        "\n",
        "  # compute the CE loss for a mini-batch\n",
        "  # W_b[ ]: list for all weight matrices\n",
        "  # X[B,d]: input features;\n",
        "  # Y[B,K]: 1-of-K one-hot vectors for output targets\n",
        "  def loss_ce_batch(self, W_b, X, Y):\n",
        "    R = self.forward(W_b, X)\n",
        "\n",
        "    return -jnp.mean(jnp.log(R[Y==1]))\n",
        "\n",
        "  # use minibatch SGD to optimize (refer to Algorithm 8.8 on page 189)\n",
        "  # X[N,d]: input features; Y[N,K]: 1-of-K one-hot vectors for output targets\n",
        "  def sgd(self, X, Y):\n",
        "    n = X.shape[0]      # number of samples\n",
        "\n",
        "    lr = self.lr\n",
        "    errorsA = np.zeros(self.max_epochs)\n",
        "    #errorsB = np.zeros(self.max_epochs)\n",
        "    errorsC = np.zeros(self.max_epochs)\n",
        "\n",
        "    for epoch in range(self.max_epochs):\n",
        "      indices = np.random.permutation(n)  #randomly shuffle data indices\n",
        "      for batch_start in range(0, n, self.batch_size):\n",
        "        X_batch = X[indices[batch_start:batch_start + self.batch_size]]\n",
        "        Y_batch = Y[indices[batch_start:batch_start + self.batch_size]]\n",
        "\n",
        "        W_b_grad = grad(self.loss_ce_batch)(self.W_b, X_batch, Y_batch)\n",
        "\n",
        "        for l in range(self.layers+1):\n",
        "          self.W_b[l] -= lr * W_b_grad[l]\n",
        "\n",
        "      # plot all learning curves (A, B, C)\n",
        "      errorsC[epoch] = self.loss_ce_batch(self.W_b, X, Y)\n",
        "\n",
        "      Z = self.forward(self.W_b, X)\n",
        "      train_label = np.argmax(Y, axis=1)\n",
        "      train_res = np.argmax(Z, axis=1)\n",
        "      errorsA[epoch] = np.count_nonzero(np.equal(train_res,train_label))/train_label.size\n",
        "\n",
        "      if(self.debug):\n",
        "        print(f'epoch = {epoch} (lr={lr:.2}): C = {errorsC[epoch]:.5f}  A = {100*errorsA[epoch]:.2f}%')\n",
        "\n",
        "      lr *= self.annealing\n",
        "\n",
        "    return errorsA, errorsC\n",
        "\n",
        "   # X[N,d]: input features; Y[N,K]: 1-of-K one-hot vectors for output targets\n",
        "  def fit(self, X, Y):\n",
        "    # initialize all weight matrices\n",
        "    self.initialization(X, Y)\n",
        "\n",
        "    X2 = device_put(X)\n",
        "    Y2 = device_put(Y)\n",
        "\n",
        "    errorsA, errorsC = self.sgd(X2, Y2)\n",
        "\n",
        "    return errorsA, errorsC\n",
        "\n",
        "  # X[N,d]: input features;\n",
        "  # return: labels\n",
        "  def predict(self, X):\n",
        "    X2 = device_put(X)\n",
        "    Y = self.forward(self.W_b, X2)\n",
        "    return jnp.argmax(Y, axis=1)\n"
      ]
    },
    {
      "cell_type": "markdown",
      "metadata": {
        "id": "GMDTP64iXx0J"
      },
      "source": [
        "1st Configuration"
      ]
    },
    {
      "cell_type": "code",
      "execution_count": null,
      "metadata": {
        "colab": {
          "base_uri": "https://localhost:8080/",
          "height": 704
        },
        "id": "3zDCpkbkiY3v",
        "outputId": "8cb7fc5b-ee36-491e-a025-495a7180c436"
      },
      "outputs": [
        {
          "name": "stdout",
          "output_type": "stream",
          "text": [
            "epoch = 0 (lr=0.1): C = 0.16887  A = 95.30%\n",
            "epoch = 1 (lr=0.09): C = 0.10852  A = 97.06%\n",
            "epoch = 2 (lr=0.081): C = 0.08698  A = 97.57%\n",
            "epoch = 3 (lr=0.073): C = 0.06498  A = 98.13%\n",
            "epoch = 4 (lr=0.066): C = 0.06067  A = 98.20%\n",
            "epoch = 5 (lr=0.059): C = 0.02944  A = 99.15%\n",
            "epoch = 6 (lr=0.053): C = 0.02340  A = 99.32%\n",
            "epoch = 7 (lr=0.048): C = 0.02133  A = 99.33%\n",
            "epoch = 8 (lr=0.043): C = 0.02031  A = 99.37%\n",
            "epoch = 9 (lr=0.039): C = 0.01304  A = 99.62%\n",
            "epoch = 10 (lr=0.035): C = 0.00658  A = 99.80%\n",
            "epoch = 11 (lr=0.031): C = 0.00555  A = 99.83%\n",
            "test accuracy = 98.05%\n"
          ]
        },
        {
          "data": {
            "image/png": "[encoded data removed]",
            "text/plain": [
              "<Figure size 640x480 with 2 Axes>"
            ]
          },
          "metadata": {},
          "output_type": "display_data"
        }
      ],
      "source": [
        "mlp1 = myMLP3(struct=[128, 128, 128, 32, 128, 128, 128], debug=1, max_epochs=12, annealing=0.9, batch_size=10,lr=0.1)\n",
        "\n",
        "A, C = mlp1.fit(X_train, Y_train)\n",
        "\n",
        "result = mlp1.predict(X_test)\n",
        "\n",
        "test_acc =  100.0*jnp.count_nonzero(jnp.equal(result, y_test))/y_test.size\n",
        "print(f'test accuracy = {test_acc:.2f}%')\n",
        "\n",
        "fig, ax = plt.subplots(2)\n",
        "fig.suptitle('monitoring three learning curves (A, C)')\n",
        "ax[0].plot(C, 'b')\n",
        "_=ax[0].legend(['curve C'])\n",
        "\n",
        "ax[1].plot(A, 'r')\n",
        "_=ax[1].legend(['curve A'])"
      ]
    },
    {
      "cell_type": "markdown",
      "metadata": {
        "id": "u6te6vgZX1NH"
      },
      "source": [
        "2nd Configuration"
      ]
    },
    {
      "cell_type": "code",
      "execution_count": null,
      "metadata": {
        "colab": {
          "base_uri": "https://localhost:8080/",
          "height": 704
        },
        "id": "cfnmLnBjX1Td",
        "outputId": "0c799d17-07c9-4722-d8ee-14e7e56029ac"
      },
      "outputs": [
        {
          "name": "stdout",
          "output_type": "stream",
          "text": [
            "epoch = 0 (lr=0.1): C = 0.13355  A = 96.17%\n",
            "epoch = 1 (lr=0.09): C = 0.08525  A = 97.42%\n",
            "epoch = 2 (lr=0.081): C = 0.05020  A = 98.44%\n",
            "epoch = 3 (lr=0.073): C = 0.03480  A = 98.94%\n",
            "epoch = 4 (lr=0.066): C = 0.01777  A = 99.44%\n",
            "epoch = 5 (lr=0.059): C = 0.01609  A = 99.54%\n",
            "epoch = 6 (lr=0.053): C = 0.01117  A = 99.66%\n",
            "epoch = 7 (lr=0.048): C = 0.00666  A = 99.80%\n",
            "epoch = 8 (lr=0.043): C = 0.00420  A = 99.89%\n",
            "epoch = 9 (lr=0.039): C = 0.00438  A = 99.88%\n",
            "epoch = 10 (lr=0.035): C = 0.00145  A = 99.96%\n",
            "epoch = 11 (lr=0.031): C = 0.00065  A = 99.98%\n",
            "test accuracy = 98.55%\n"
          ]
        },
        {
          "data": {
            "image/png": "[encoded data removed]",
            "text/plain": [
              "<Figure size 640x480 with 2 Axes>"
            ]
          },
          "metadata": {},
          "output_type": "display_data"
        }
      ],
      "source": [
        "mlp2 = myMLP3(struct=[512, 256, 128, 32, 128], debug=1, max_epochs=12, annealing=0.9, batch_size=10,lr=0.1)\n",
        "\n",
        "A, C = mlp2.fit(X_train, Y_train)\n",
        "\n",
        "result = mlp2.predict(X_test)\n",
        "\n",
        "test_acc =  100.0*jnp.count_nonzero(jnp.equal(result, y_test))/y_test.size\n",
        "print(f'test accuracy = {test_acc:.2f}%')\n",
        "\n",
        "fig, ax = plt.subplots(2)\n",
        "fig.suptitle('monitoring three learning curves (A, C)')\n",
        "ax[0].plot(C, 'b')\n",
        "_=ax[0].legend(['curve C'])\n",
        "\n",
        "ax[1].plot(A, 'r')\n",
        "_=ax[1].legend(['curve A'])"
      ]
    },
    {
      "cell_type": "markdown",
      "metadata": {
        "id": "mm-R-xsuX1ZR"
      },
      "source": [
        "3rd Configuration"
      ]
    },
    {
      "cell_type": "code",
      "execution_count": null,
      "metadata": {
        "colab": {
          "base_uri": "https://localhost:8080/",
          "height": 704
        },
        "id": "7jj3bFcZX1eJ",
        "outputId": "a2491880-a420-459a-ae5b-22eb254fd6d3"
      },
      "outputs": [
        {
          "name": "stdout",
          "output_type": "stream",
          "text": [
            "epoch = 0 (lr=0.1): C = 0.12227  A = 96.37%\n",
            "epoch = 1 (lr=0.09): C = 0.07058  A = 97.87%\n",
            "epoch = 2 (lr=0.081): C = 0.05147  A = 98.44%\n",
            "epoch = 3 (lr=0.073): C = 0.04979  A = 98.45%\n",
            "epoch = 4 (lr=0.066): C = 0.06124  A = 98.05%\n",
            "epoch = 5 (lr=0.059): C = 0.02727  A = 99.09%\n",
            "epoch = 6 (lr=0.053): C = 0.02027  A = 99.32%\n",
            "epoch = 7 (lr=0.048): C = 0.01423  A = 99.56%\n",
            "epoch = 8 (lr=0.043): C = 0.00789  A = 99.77%\n",
            "epoch = 9 (lr=0.039): C = 0.00855  A = 99.72%\n",
            "epoch = 10 (lr=0.035): C = 0.00539  A = 99.84%\n",
            "epoch = 11 (lr=0.031): C = 0.00271  A = 99.92%\n",
            "test accuracy = 98.22%\n"
          ]
        },
        {
          "data": {
            "image/png": "[encoded data removed]",
            "text/plain": [
              "<Figure size 640x480 with 2 Axes>"
            ]
          },
          "metadata": {},
          "output_type": "display_data"
        }
      ],
      "source": [
        "mlp3 = myMLP3(struct = [128, 64, 128, 128], debug=1, max_epochs=12, annealing=0.9, batch_size=10,lr=0.1)\n",
        "\n",
        "A, C = mlp3.fit(X_train, Y_train)\n",
        "\n",
        "result = mlp3.predict(X_test)\n",
        "\n",
        "test_acc =  100.0*jnp.count_nonzero(jnp.equal(result, y_test))/y_test.size\n",
        "print(f'test accuracy = {test_acc:.2f}%')\n",
        "\n",
        "fig, ax = plt.subplots(2)\n",
        "fig.suptitle('monitoring three learning curves (A, C)')\n",
        "ax[0].plot(C, 'b')\n",
        "_=ax[0].legend(['curve C'])\n",
        "\n",
        "ax[1].plot(A, 'r')\n",
        "_=ax[1].legend(['curve A'])"
      ]
    },
    {
      "cell_type": "markdown",
      "metadata": {
        "id": "-ibsDSTrX1jI"
      },
      "source": [
        "4th Configuration"
      ]
    },
    {
      "cell_type": "code",
      "execution_count": null,
      "metadata": {
        "colab": {
          "base_uri": "https://localhost:8080/",
          "height": 704
        },
        "id": "GZyz0NHDX1n-",
        "outputId": "b8192c69-51f2-499e-ae49-01c3b0fb693a"
      },
      "outputs": [
        {
          "name": "stdout",
          "output_type": "stream",
          "text": [
            "epoch = 0 (lr=0.1): C = 0.14555  A = 95.69%\n",
            "epoch = 1 (lr=0.09): C = 0.07103  A = 97.88%\n",
            "epoch = 2 (lr=0.081): C = 0.04871  A = 98.57%\n",
            "epoch = 3 (lr=0.073): C = 0.03868  A = 98.82%\n",
            "epoch = 4 (lr=0.066): C = 0.02152  A = 99.33%\n",
            "epoch = 5 (lr=0.059): C = 0.01654  A = 99.48%\n",
            "epoch = 6 (lr=0.053): C = 0.01065  A = 99.67%\n",
            "epoch = 7 (lr=0.048): C = 0.00913  A = 99.72%\n",
            "epoch = 8 (lr=0.043): C = 0.00281  A = 99.93%\n",
            "epoch = 9 (lr=0.039): C = 0.00157  A = 99.96%\n",
            "epoch = 10 (lr=0.035): C = 0.00739  A = 99.80%\n",
            "epoch = 11 (lr=0.031): C = 0.00089  A = 99.98%\n",
            "test accuracy = 98.50%\n"
          ]
        },
        {
          "data": {
            "image/png": "[encoded data removed]",
            "text/plain": [
              "<Figure size 640x480 with 2 Axes>"
            ]
          },
          "metadata": {},
          "output_type": "display_data"
        }
      ],
      "source": [
        "mlp4 = myMLP3(struct=[512, 256, 32, 256, 512], debug=1, max_epochs=12, annealing=0.9, batch_size=10,lr=0.1)\n",
        "\n",
        "A, C = mlp4.fit(X_train, Y_train)\n",
        "\n",
        "result = mlp4.predict(X_test)\n",
        "\n",
        "test_acc =  100.0*jnp.count_nonzero(jnp.equal(result, y_test))/y_test.size\n",
        "print(f'test accuracy = {test_acc:.2f}%')\n",
        "\n",
        "fig, ax = plt.subplots(2)\n",
        "fig.suptitle('monitoring three learning curves (A, C)')\n",
        "ax[0].plot(C, 'b')\n",
        "_=ax[0].legend(['curve C'])\n",
        "\n",
        "ax[1].plot(A, 'r')\n",
        "_=ax[1].legend(['curve A'])"
      ]
    },
    {
      "cell_type": "markdown",
      "metadata": {
        "id": "Jtv9k3IhaSmd"
      },
      "source": [
        "5th Configuration"
      ]
    },
    {
      "cell_type": "code",
      "execution_count": null,
      "metadata": {
        "colab": {
          "base_uri": "https://localhost:8080/",
          "height": 704
        },
        "id": "eVjzLqTPaRAF",
        "outputId": "df5c6d89-5174-4459-90e4-209450e47e51"
      },
      "outputs": [
        {
          "name": "stdout",
          "output_type": "stream",
          "text": [
            "epoch = 0 (lr=0.1): C = 0.19680  A = 94.41%\n",
            "epoch = 1 (lr=0.09): C = 0.13103  A = 96.11%\n",
            "epoch = 2 (lr=0.081): C = 0.11590  A = 96.59%\n",
            "epoch = 3 (lr=0.073): C = 0.11044  A = 96.71%\n",
            "epoch = 4 (lr=0.066): C = 0.08371  A = 97.52%\n",
            "epoch = 5 (lr=0.059): C = 0.07949  A = 97.59%\n",
            "epoch = 6 (lr=0.053): C = 0.08635  A = 97.23%\n",
            "epoch = 7 (lr=0.048): C = 0.06603  A = 98.03%\n",
            "epoch = 8 (lr=0.043): C = 0.05438  A = 98.32%\n",
            "epoch = 9 (lr=0.039): C = 0.04518  A = 98.61%\n",
            "epoch = 10 (lr=0.035): C = 0.04726  A = 98.55%\n",
            "epoch = 11 (lr=0.031): C = 0.04371  A = 98.69%\n",
            "test accuracy = 96.90%\n"
          ]
        },
        {
          "data": {
            "image/png": "[encoded data removed]",
            "text/plain": [
              "<Figure size 640x480 with 2 Axes>"
            ]
          },
          "metadata": {},
          "output_type": "display_data"
        }
      ],
      "source": [
        "mlp5 = myMLP3(struct=[32, 16, 32], debug=1, max_epochs=12, annealing=0.9, batch_size=10,lr=0.1)\n",
        "\n",
        "A, C = mlp5.fit(X_train, Y_train)\n",
        "\n",
        "result = mlp5.predict(X_test)\n",
        "\n",
        "test_acc =  100.0*jnp.count_nonzero(jnp.equal(result, y_test))/y_test.size\n",
        "print(f'test accuracy = {test_acc:.2f}%')\n",
        "\n",
        "fig, ax = plt.subplots(2)\n",
        "fig.suptitle('monitoring three learning curves (A, C)')\n",
        "ax[0].plot(C, 'b')\n",
        "_=ax[0].legend(['curve C'])\n",
        "\n",
        "ax[1].plot(A, 'r')\n",
        "_=ax[1].legend(['curve A'])"
      ]
    },
    {
      "cell_type": "markdown",
      "metadata": {
        "id": "oFlZfeXzYsdz"
      },
      "source": [
        "Extracting bottleneck features"
      ]
    },
    {
      "cell_type": "code",
      "execution_count": null,
      "metadata": {
        "id": "4-SHgvcjjtIz"
      },
      "outputs": [],
      "source": [
        "# ReLU activation function\n",
        "def relu(x):\n",
        "  return np.maximum(x, 0)\n",
        "\n",
        "def extract_bottleneck_features(mlp, X):\n",
        "  Z = X\n",
        "  for l in range(np.argmin(mlp.struct) + 1):\n",
        "    W = mlp.W_b[l]\n",
        "    Z = relu(Z @ W[:-1, :] + W[-1, :])\n",
        "  return Z"
      ]
    },
    {
      "cell_type": "markdown",
      "metadata": {
        "id": "lQhAamTKkVsM"
      },
      "source": [
        "Non-linear SVM for 7 vs 9"
      ]
    },
    {
      "cell_type": "code",
      "execution_count": null,
      "metadata": {
        "id": "wv0qplXsnWI_"
      },
      "outputs": [],
      "source": [
        "digit_train_index = np.logical_or(y_train == 7, y_train == 9)\n",
        "digit_test_index = np.logical_or(y_test == 7, y_test == 9)\n",
        "\n",
        "X_train_79 = X_train[digit_train_index]\n",
        "y_train_79 = y_train[digit_train_index]\n",
        "X_test_79 = X_test[digit_test_index]\n",
        "y_test_79 = y_test[digit_test_index]\n",
        "\n",
        "X_train_79 = X_train_79 / np.linalg.norm(X_train_79, axis=1, keepdims=True)\n",
        "X_test_79 = X_test_79 / np.linalg.norm(X_test_79, axis=1, keepdims=True)\n",
        "\n",
        "CUTOFF = 8\n",
        "y_train_79 = np.sign(y_train_79 - CUTOFF)\n",
        "y_test_79 = np.sign(y_test_79 - CUTOFF)"
      ]
    },
    {
      "cell_type": "markdown",
      "metadata": {
        "id": "J8ryu_yfXj1W"
      },
      "source": [
        "1st Configuration"
      ]
    },
    {
      "cell_type": "code",
      "execution_count": null,
      "metadata": {
        "colab": {
          "base_uri": "https://localhost:8080/"
        },
        "id": "0-0NLSm0kr-F",
        "outputId": "424b4b54-9fb6-47aa-c265-9304a9769835"
      },
      "outputs": [
        {
          "name": "stdout",
          "output_type": "stream",
          "text": [
            "1st Configuration results (7vs9):\n",
            "nonlinear RBF SVM (C=10, gamma=scale): training accuracy=98.67%  test accuracy=98.48%\n"
          ]
        }
      ],
      "source": [
        "# Extract bottleneck features for the filtered data\n",
        "train_bottleneck_features_79 = extract_bottleneck_features(mlp1, X_train_79)\n",
        "test_bottleneck_features_79 = extract_bottleneck_features(mlp1, X_test_79)\n",
        "\n",
        "# Train the SVM on bottleneck features\n",
        "rbfSVM = SVC(kernel='rbf', C=10, gamma='scale')\n",
        "rbfSVM.fit(train_bottleneck_features_79, y_train_79)\n",
        "\n",
        "# Compute training accuracy\n",
        "train_predict = rbfSVM.predict(train_bottleneck_features_79)\n",
        "train_acc_1_79 = np.count_nonzero(np.equal(train_predict, y_train_79)) / y_train_79.size\n",
        "\n",
        "# Compute test accuracy\n",
        "test_predict = rbfSVM.predict(test_bottleneck_features_79)\n",
        "test_acc_1_79 = np.count_nonzero(np.equal(test_predict, y_test_79)) / y_test_79.size\n",
        "\n",
        "# Print the results\n",
        "print(\"1st Configuration results (7vs9):\")\n",
        "print(f'nonlinear RBF SVM (C=10, gamma=scale): training accuracy={100*train_acc_1_79:.2f}%  test accuracy={100*test_acc_1_79:.2f}%')"
      ]
    },
    {
      "cell_type": "markdown",
      "metadata": {
        "id": "-MmbZ5A5Xtr0"
      },
      "source": [
        "2nd Configuration"
      ]
    },
    {
      "cell_type": "code",
      "execution_count": null,
      "metadata": {
        "colab": {
          "base_uri": "https://localhost:8080/"
        },
        "id": "C8VQ4XpuXtyr",
        "outputId": "0203dfb1-9976-45f3-8ea7-24f7d77c5b43"
      },
      "outputs": [
        {
          "name": "stdout",
          "output_type": "stream",
          "text": [
            "2nd Configuration results (7vs9):\n",
            "nonlinear RBF SVM (C=10, gamma=scale): training accuracy=99.53%  test accuracy=98.82%\n"
          ]
        }
      ],
      "source": [
        "# Extract bottleneck features for the filtered data\n",
        "train_bottleneck_features_79 = extract_bottleneck_features(mlp2, X_train_79)\n",
        "test_bottleneck_features_79 = extract_bottleneck_features(mlp2, X_test_79)\n",
        "\n",
        "# Train the SVM on bottleneck features\n",
        "rbfSVM = SVC(kernel='rbf', C=10, gamma='scale')\n",
        "rbfSVM.fit(train_bottleneck_features_79, y_train_79)\n",
        "\n",
        "# Compute training accuracy\n",
        "train_predict = rbfSVM.predict(train_bottleneck_features_79)\n",
        "train_acc_2_79 = np.count_nonzero(np.equal(train_predict, y_train_79)) / y_train_79.size\n",
        "\n",
        "# Compute test accuracy\n",
        "test_predict = rbfSVM.predict(test_bottleneck_features_79)\n",
        "test_acc_2_79 = np.count_nonzero(np.equal(test_predict, y_test_79)) / y_test_79.size\n",
        "\n",
        "# Print the results\n",
        "print(\"2nd Configuration results (7vs9):\")\n",
        "print(f'nonlinear RBF SVM (C=10, gamma=scale): training accuracy={100*train_acc_2_79:.2f}%  test accuracy={100*test_acc_2_79:.2f}%')"
      ]
    },
    {
      "cell_type": "markdown",
      "metadata": {
        "id": "gpXZyQQMXuLd"
      },
      "source": [
        "3rd Configuration"
      ]
    },
    {
      "cell_type": "code",
      "execution_count": null,
      "metadata": {
        "colab": {
          "base_uri": "https://localhost:8080/"
        },
        "id": "SP2ZuvleXuSG",
        "outputId": "89908535-70cd-4302-9a0e-445210ee6706"
      },
      "outputs": [
        {
          "name": "stdout",
          "output_type": "stream",
          "text": [
            "3rd Configuration results (7vs9):\n",
            "nonlinear RBF SVM (C=10, gamma=scale): training accuracy=99.89%  test accuracy=99.26%\n"
          ]
        }
      ],
      "source": [
        "# Extract bottleneck features for the filtered data\n",
        "train_bottleneck_features_79 = extract_bottleneck_features(mlp3, X_train_79)\n",
        "test_bottleneck_features_79 = extract_bottleneck_features(mlp3, X_test_79)\n",
        "\n",
        "# Train the SVM on bottleneck features\n",
        "rbfSVM = SVC(kernel='rbf', C=10, gamma='scale')\n",
        "rbfSVM.fit(train_bottleneck_features_79, y_train_79)\n",
        "\n",
        "# Compute training accuracy\n",
        "train_predict = rbfSVM.predict(train_bottleneck_features_79)\n",
        "train_acc_3_79 = np.count_nonzero(np.equal(train_predict, y_train_79)) / y_train_79.size\n",
        "\n",
        "# Compute test accuracy\n",
        "test_predict = rbfSVM.predict(test_bottleneck_features_79)\n",
        "test_acc_3_79 = np.count_nonzero(np.equal(test_predict, y_test_79)) / y_test_79.size\n",
        "\n",
        "# Print the results\n",
        "print(\"3rd Configuration results (7vs9):\")\n",
        "print(f'nonlinear RBF SVM (C=10, gamma=scale): training accuracy={100*train_acc_3_79:.2f}%  test accuracy={100*test_acc_3_79:.2f}%')"
      ]
    },
    {
      "cell_type": "markdown",
      "metadata": {
        "id": "IjctJtyfXuXG"
      },
      "source": [
        "4th Configuration"
      ]
    },
    {
      "cell_type": "code",
      "execution_count": null,
      "metadata": {
        "colab": {
          "base_uri": "https://localhost:8080/"
        },
        "id": "Kt5l05d_XubI",
        "outputId": "969f6217-1b02-4e03-dbf3-dc1ca459b14f"
      },
      "outputs": [
        {
          "name": "stdout",
          "output_type": "stream",
          "text": [
            "4th Configuration results (7vs9):\n",
            "nonlinear RBF SVM (C=10, gamma=scale): training accuracy=99.32%  test accuracy=98.63%\n"
          ]
        }
      ],
      "source": [
        "# Extract bottleneck features for the filtered data\n",
        "train_bottleneck_features_79 = extract_bottleneck_features(mlp4, X_train_79)\n",
        "test_bottleneck_features_79 = extract_bottleneck_features(mlp4, X_test_79)\n",
        "\n",
        "# Train the SVM on bottleneck features\n",
        "rbfSVM = SVC(kernel='rbf', C=10, gamma='scale')\n",
        "rbfSVM.fit(train_bottleneck_features_79, y_train_79)\n",
        "\n",
        "# Compute training accuracy\n",
        "train_predict = rbfSVM.predict(train_bottleneck_features_79)\n",
        "train_acc_4_79 = np.count_nonzero(np.equal(train_predict, y_train_79)) / y_train_79.size\n",
        "\n",
        "# Compute test accuracy\n",
        "test_predict = rbfSVM.predict(test_bottleneck_features_79)\n",
        "test_acc_4_79 = np.count_nonzero(np.equal(test_predict, y_test_79)) / y_test_79.size\n",
        "\n",
        "# Print the results\n",
        "print(\"4th Configuration results (7vs9):\")\n",
        "print(f'nonlinear RBF SVM (C=10, gamma=scale): training accuracy={100*train_acc_4_79:.2f}%  test accuracy={100*test_acc_4_79:.2f}%')"
      ]
    },
    {
      "cell_type": "markdown",
      "metadata": {
        "id": "cr_juosJalIA"
      },
      "source": [
        "5th Configuration"
      ]
    },
    {
      "cell_type": "code",
      "execution_count": null,
      "metadata": {
        "colab": {
          "base_uri": "https://localhost:8080/"
        },
        "id": "tq41nBEhalL5",
        "outputId": "2ed727de-6acc-4c1f-d039-68d2f807be8e"
      },
      "outputs": [
        {
          "name": "stdout",
          "output_type": "stream",
          "text": [
            "5th Configuration results (7vs9):\n",
            "nonlinear RBF SVM (C=10, gamma=scale): training accuracy=98.70%  test accuracy=98.58%\n"
          ]
        }
      ],
      "source": [
        "# Extract bottleneck features for the filtered data\n",
        "train_bottleneck_features_79 = extract_bottleneck_features(mlp5, X_train_79)\n",
        "test_bottleneck_features_79 = extract_bottleneck_features(mlp5, X_test_79)\n",
        "\n",
        "# Train the SVM on bottleneck features\n",
        "rbfSVM = SVC(kernel='rbf', C=10, gamma='scale')\n",
        "rbfSVM.fit(train_bottleneck_features_79, y_train_79)\n",
        "\n",
        "# Compute training accuracy\n",
        "train_predict = rbfSVM.predict(train_bottleneck_features_79)\n",
        "train_acc_5_79 = np.count_nonzero(np.equal(train_predict, y_train_79)) / y_train_79.size\n",
        "\n",
        "# Compute test accuracy\n",
        "test_predict = rbfSVM.predict(test_bottleneck_features_79)\n",
        "test_acc_5_79 = np.count_nonzero(np.equal(test_predict, y_test_79)) / y_test_79.size\n",
        "\n",
        "# Print the results\n",
        "print(\"5th Configuration results (7vs9):\")\n",
        "print(f'nonlinear RBF SVM (C=10, gamma=scale): training accuracy={100*train_acc_5_79:.2f}%  test accuracy={100*test_acc_5_79:.2f}%')"
      ]
    },
    {
      "cell_type": "markdown",
      "metadata": {
        "id": "-9LBEk_Jck5K"
      },
      "source": [
        "Best configuration for 7vs9"
      ]
    },
    {
      "cell_type": "code",
      "execution_count": null,
      "metadata": {
        "colab": {
          "base_uri": "https://localhost:8080/"
        },
        "id": "6oaqf4zhck-q",
        "outputId": "04c34cc0-446c-4e59-fbf9-ad906f2681f4"
      },
      "outputs": [
        {
          "name": "stdout",
          "output_type": "stream",
          "text": [
            "Best Test Accuracy for 7 vs 9:\n",
            "3rd_configuration = 99.26%\n"
          ]
        }
      ],
      "source": [
        "test_79 = {\n",
        "    \"1st_configuration\": test_acc_1_79,\n",
        "    \"2nd_configuration\": test_acc_2_79,\n",
        "    \"3rd_configuration\": test_acc_3_79,\n",
        "    \"4th_configuration\": test_acc_4_79,\n",
        "    \"5th_configuration\": test_acc_5_79,\n",
        "}\n",
        "\n",
        "best_test_79 = max(test_79, key=test_79.get)\n",
        "\n",
        "print(\"Best Test Accuracy for 7 vs 9:\")\n",
        "print(f\"{best_test_79} = {100 * test_79[best_test_79]:.2f}%\")"
      ]
    },
    {
      "cell_type": "markdown",
      "metadata": {
        "id": "GkoJ45X3oanu"
      },
      "source": [
        "Non-linear SVM for 0 vs 8"
      ]
    },
    {
      "cell_type": "code",
      "execution_count": null,
      "metadata": {
        "id": "HN94ft1rrONV"
      },
      "outputs": [],
      "source": [
        "digit_train_index = np.logical_or(y_train == 0, y_train == 8)\n",
        "digit_test_index = np.logical_or(y_test == 0, y_test == 8)\n",
        "\n",
        "X_train_08 = X_train[digit_train_index]\n",
        "y_train_08 = y_train[digit_train_index]\n",
        "X_test_08 = X_test[digit_test_index]\n",
        "y_test_08 = y_test[digit_test_index]\n",
        "\n",
        "X_train_08 = X_train_08 / np.linalg.norm(X_train_08, axis=1, keepdims=True)\n",
        "X_test_08 = X_test_08 / np.linalg.norm(X_test_08, axis=1, keepdims=True)\n",
        "\n",
        "CUTOFF = 4\n",
        "y_train_08 = np.sign(y_train_08 - CUTOFF)\n",
        "y_test_08 = np.sign(y_test_08 - CUTOFF)"
      ]
    },
    {
      "cell_type": "markdown",
      "metadata": {
        "id": "0eEJPsE3YJCe"
      },
      "source": [
        "1st Configuration"
      ]
    },
    {
      "cell_type": "code",
      "execution_count": null,
      "metadata": {
        "colab": {
          "base_uri": "https://localhost:8080/"
        },
        "id": "1RcYC0zXrOPm",
        "outputId": "1afd12c5-7b13-45ed-b176-56803e5169a4"
      },
      "outputs": [
        {
          "name": "stdout",
          "output_type": "stream",
          "text": [
            "1st Configuration results (0vs8):\n",
            "nonlinear RBF SVM (C=10, gamma=scale): training accuracy=98.69%  test accuracy=98.77%\n"
          ]
        }
      ],
      "source": [
        "# Extract bottleneck features for the filtered data\n",
        "train_bottleneck_features_08 = extract_bottleneck_features(mlp1, X_train_08)\n",
        "test_bottleneck_features_08 = extract_bottleneck_features(mlp1, X_test_08)\n",
        "\n",
        "# Train the SVM on bottleneck features\n",
        "rbfSVM = SVC(kernel='rbf', C=10, gamma='scale')\n",
        "rbfSVM.fit(train_bottleneck_features_08, y_train_08)\n",
        "\n",
        "# Compute training accuracy\n",
        "train_predict = rbfSVM.predict(train_bottleneck_features_08)\n",
        "train_acc_1_08 = np.count_nonzero(np.equal(train_predict, y_train_08)) / y_train_08.size\n",
        "\n",
        "# Compute test accuracy\n",
        "test_predict = rbfSVM.predict(test_bottleneck_features_08)\n",
        "test_acc_1_08 = np.count_nonzero(np.equal(test_predict, y_test_08)) / y_test_08.size\n",
        "\n",
        "# Print the results\n",
        "print(\"1st Configuration results (0vs8):\")\n",
        "print(f'nonlinear RBF SVM (C=10, gamma=scale): training accuracy={100*train_acc_1_08:.2f}%  test accuracy={100*test_acc_1_08:.2f}%')"
      ]
    },
    {
      "cell_type": "markdown",
      "metadata": {
        "id": "VHYC_fdqYJcL"
      },
      "source": [
        "2nd Configuration"
      ]
    },
    {
      "cell_type": "code",
      "execution_count": null,
      "metadata": {
        "colab": {
          "base_uri": "https://localhost:8080/"
        },
        "id": "Kcy9tB_RYJhC",
        "outputId": "09db2bfc-c97b-4ce4-91fe-369bc92061fb"
      },
      "outputs": [
        {
          "name": "stdout",
          "output_type": "stream",
          "text": [
            "2nd Configuration results (0vs8):\n",
            "nonlinear RBF SVM (C=10, gamma=scale): training accuracy=99.46%  test accuracy=99.54%\n"
          ]
        }
      ],
      "source": [
        "# Extract bottleneck features for the filtered data\n",
        "train_bottleneck_features_08 = extract_bottleneck_features(mlp2, X_train_08)\n",
        "test_bottleneck_features_08 = extract_bottleneck_features(mlp2, X_test_08)\n",
        "\n",
        "# Train the SVM on bottleneck features\n",
        "rbfSVM = SVC(kernel='rbf', C=10, gamma='scale')\n",
        "rbfSVM.fit(train_bottleneck_features_08, y_train_08)\n",
        "\n",
        "# Compute training accuracy\n",
        "train_predict = rbfSVM.predict(train_bottleneck_features_08)\n",
        "train_acc_2_08 = np.count_nonzero(np.equal(train_predict, y_train_08)) / y_train_08.size\n",
        "\n",
        "# Compute test accuracy\n",
        "test_predict = rbfSVM.predict(test_bottleneck_features_08)\n",
        "test_acc_2_08 = np.count_nonzero(np.equal(test_predict, y_test_08)) / y_test_08.size\n",
        "\n",
        "# Print the results\n",
        "print(\"2nd Configuration results (0vs8):\")\n",
        "print(f'nonlinear RBF SVM (C=10, gamma=scale): training accuracy={100*train_acc_2_08:.2f}%  test accuracy={100*test_acc_2_08:.2f}%')"
      ]
    },
    {
      "cell_type": "markdown",
      "metadata": {
        "id": "_HItuc0hYJml"
      },
      "source": [
        "3rd Configuration"
      ]
    },
    {
      "cell_type": "code",
      "execution_count": null,
      "metadata": {
        "colab": {
          "base_uri": "https://localhost:8080/"
        },
        "id": "V8zq9FM4YJq0",
        "outputId": "82fb350b-48fa-43d4-83ae-fcd045c6c342"
      },
      "outputs": [
        {
          "name": "stdout",
          "output_type": "stream",
          "text": [
            "3rd Configuration results (0vs8):\n",
            "nonlinear RBF SVM (C=10, gamma=scale): training accuracy=99.91%  test accuracy=99.59%\n"
          ]
        }
      ],
      "source": [
        "# Extract bottleneck features for the filtered data\n",
        "train_bottleneck_features_08 = extract_bottleneck_features(mlp3, X_train_08)\n",
        "test_bottleneck_features_08 = extract_bottleneck_features(mlp3, X_test_08)\n",
        "\n",
        "# Train the SVM on bottleneck features\n",
        "rbfSVM = SVC(kernel='rbf', C=10, gamma='scale')\n",
        "rbfSVM.fit(train_bottleneck_features_08, y_train_08)\n",
        "\n",
        "# Compute training accuracy\n",
        "train_predict = rbfSVM.predict(train_bottleneck_features_08)\n",
        "train_acc_3_08 = np.count_nonzero(np.equal(train_predict, y_train_08)) / y_train_08.size\n",
        "\n",
        "# Compute test accuracy\n",
        "test_predict = rbfSVM.predict(test_bottleneck_features_08)\n",
        "test_acc_3_08 = np.count_nonzero(np.equal(test_predict, y_test_08)) / y_test_08.size\n",
        "\n",
        "# Print the results\n",
        "print(\"3rd Configuration results (0vs8):\")\n",
        "print(f'nonlinear RBF SVM (C=10, gamma=scale): training accuracy={100*train_acc_3_08:.2f}%  test accuracy={100*test_acc_3_08:.2f}%')"
      ]
    },
    {
      "cell_type": "markdown",
      "metadata": {
        "id": "oKqUSxHhYJvd"
      },
      "source": [
        "4th Configuration"
      ]
    },
    {
      "cell_type": "code",
      "execution_count": null,
      "metadata": {
        "colab": {
          "base_uri": "https://localhost:8080/"
        },
        "id": "yiZ4KQeBYJzU",
        "outputId": "ae651c96-fefc-48a1-9e30-8cb02b95a53a"
      },
      "outputs": [
        {
          "name": "stdout",
          "output_type": "stream",
          "text": [
            "4th Configuration results (0vs8):\n",
            "nonlinear RBF SVM (C=10, gamma=scale): training accuracy=99.62%  test accuracy=99.39%\n"
          ]
        }
      ],
      "source": [
        "# Extract bottleneck features for the filtered data\n",
        "train_bottleneck_features_08 = extract_bottleneck_features(mlp4, X_train_08)\n",
        "test_bottleneck_features_08 = extract_bottleneck_features(mlp4, X_test_08)\n",
        "\n",
        "# Train the SVM on bottleneck features\n",
        "rbfSVM = SVC(kernel='rbf', C=10, gamma='scale')\n",
        "rbfSVM.fit(train_bottleneck_features_08, y_train_08)\n",
        "\n",
        "# Compute training accuracy\n",
        "train_predict = rbfSVM.predict(train_bottleneck_features_08)\n",
        "train_acc_4_08 = np.count_nonzero(np.equal(train_predict, y_train_08)) / y_train_08.size\n",
        "\n",
        "# Compute test accuracy\n",
        "test_predict = rbfSVM.predict(test_bottleneck_features_08)\n",
        "test_acc_4_08 = np.count_nonzero(np.equal(test_predict, y_test_08)) / y_test_08.size\n",
        "\n",
        "# Print the results\n",
        "print(\"4th Configuration results (0vs8):\")\n",
        "print(f'nonlinear RBF SVM (C=10, gamma=scale): training accuracy={100*train_acc_4_08:.2f}%  test accuracy={100*test_acc_4_08:.2f}%')"
      ]
    },
    {
      "cell_type": "markdown",
      "metadata": {
        "id": "jRVpd7mLaqAA"
      },
      "source": [
        "5th Configuration"
      ]
    },
    {
      "cell_type": "code",
      "execution_count": null,
      "metadata": {
        "colab": {
          "base_uri": "https://localhost:8080/"
        },
        "id": "Cy02xZrEaqEz",
        "outputId": "2ee386ce-69f2-43ab-94cf-8b9ade8d6c6a"
      },
      "outputs": [
        {
          "name": "stdout",
          "output_type": "stream",
          "text": [
            "5th Configuration results (0vs8):\n",
            "nonlinear RBF SVM (C=10, gamma=scale): training accuracy=98.27%  test accuracy=98.31%\n"
          ]
        }
      ],
      "source": [
        "# Extract bottleneck features for the filtered data\n",
        "train_bottleneck_features_08 = extract_bottleneck_features(mlp5, X_train_08)\n",
        "test_bottleneck_features_08 = extract_bottleneck_features(mlp5, X_test_08)\n",
        "\n",
        "# Train the SVM on bottleneck features\n",
        "rbfSVM = SVC(kernel='rbf', C=10, gamma='scale')\n",
        "rbfSVM.fit(train_bottleneck_features_08, y_train_08)\n",
        "\n",
        "# Compute training accuracy\n",
        "train_predict = rbfSVM.predict(train_bottleneck_features_08)\n",
        "train_acc_5_08 = np.count_nonzero(np.equal(train_predict, y_train_08)) / y_train_08.size\n",
        "\n",
        "# Compute test accuracy\n",
        "test_predict = rbfSVM.predict(test_bottleneck_features_08)\n",
        "test_acc_5_08 = np.count_nonzero(np.equal(test_predict, y_test_08)) / y_test_08.size\n",
        "\n",
        "# Print the results\n",
        "print(\"5th Configuration results (0vs8):\")\n",
        "print(f'nonlinear RBF SVM (C=10, gamma=scale): training accuracy={100*train_acc_5_08:.2f}%  test accuracy={100*test_acc_5_08:.2f}%')"
      ]
    },
    {
      "cell_type": "markdown",
      "metadata": {
        "id": "4oqJBECmcd4i"
      },
      "source": [
        "Best configuration for 0vs8"
      ]
    },
    {
      "cell_type": "code",
      "execution_count": null,
      "metadata": {
        "colab": {
          "base_uri": "https://localhost:8080/"
        },
        "id": "63F2fJ_Icjrz",
        "outputId": "4c799466-de9b-4104-e713-289c705ba690"
      },
      "outputs": [
        {
          "name": "stdout",
          "output_type": "stream",
          "text": [
            "Best Test Accuracy for 0 vs 8:\n",
            "3rd_configuration = 99.59%\n"
          ]
        }
      ],
      "source": [
        "test_08 = {\n",
        "    \"1st_configuration\": test_acc_1_08,\n",
        "    \"2nd_configuration\": test_acc_2_08,\n",
        "    \"3rd_configuration\": test_acc_3_08,\n",
        "    \"4th_configuration\": test_acc_4_08,\n",
        "    \"5th_configuration\": test_acc_5_08,\n",
        "}\n",
        "\n",
        "best_test_08 = max(test_08, key=test_08.get)\n",
        "\n",
        "print(\"Best Test Accuracy for 0 vs 8:\")\n",
        "print(f\"{best_test_08} = {100 * test_08[best_test_08]:.2f}%\")"
      ]
    },
    {
      "cell_type": "markdown",
      "metadata": {
        "id": "zPergn5XG8Z_"
      },
      "source": [
        "Report the best configuration and its corresponding classification accuracy in the heldout test images for two pairs of digits ('7' vs. '9' and '0' vs. '8'). Discuss your findings in experiments."
      ]
    },
    {
      "cell_type": "markdown",
      "metadata": {
        "id": "TEZIH_8or5jR"
      },
      "source": [
        "Findings:\n",
        "\n",
        "The first configuration, which had a deeper network with a bottleneck of 32 neurons, had a test accuracy of 98.05%.\n",
        "\n",
        "The second configuration also had a bottleneck of 32 neurons but fewer layers, and it performed the best with a test accuracy of 98.55%.\n",
        "\n",
        "The third configuration, which had four layers and a bottleneck of 64 neurons, had a slightly lower test accuracy of 98.22%.\n",
        "\n",
        "The fourth configuration, which had more layers and a bottleneck of 32 neurons, achieved a test accuracy of 98.50%, slightly below the second configuration.\n",
        "\n",
        "The fifth configuration, which had the smallest bottleneck with 16 neurons, had the worst performance, with a test accuracy of 96.90%, likely because it couldn’t learn enough features.\n",
        "\n",
        "\\\\\n",
        "The best configuration for both digit pairs (7 vs. 9) and (0 vs. 8) was the third configuration, which had four layers structured as [128, 64, 128, 128] with a bottleneck layer of 64 neurons.\n",
        "\n",
        "It achieved a test accuracy of 99.26% for (7 vs. 9) and 99.59% for (0 vs. 8).\n",
        "\n",
        "This shows that having a moderately-sized structure is ideal for extracting meaningful features while doing good for classification.\n",
        "\n",
        "The fifth configuration, with a bottleneck size of only 16 neurons, performed worse by achieving a test accuracy of 98.58% for (7 vs. 9) and 98.31% for (0 vs. 8).\n",
        "\n",
        "This is likely because it couldn’t capture enough useful features.\n",
        "\n",
        "The first and fourth configurations, which had larger bottleneck sizes or more layers, showed slightly lower performance, indicating that adding complexity beyond a certain point does not lead to noticeable improvements.\n",
        "\n",
        "\\\\\n",
        "\n",
        "These findings show that while having a moderate bottleneck size helps the model learn important features, the third configuration stood out in the digit pair comparisons because its structure balanced complexity and feature extraction.\n",
        "\n",
        "This moderate design avoided the limitations of being too simple, like the fifth configuration with too few neurons, or too complex, like the first and fourth configurations with excessive layers or larger bottlenecks.\n"
      ]
    }
  ],
  "metadata": {
    "accelerator": "GPU",
    "colab": {
      "collapsed_sections": [
        "RgoTthU7aoV2",
        "2jw48ZfUexHP"
      ],
      "gpuType": "L4",
      "machine_shape": "hm",
      "provenance": []
    },
    "kernelspec": {
      "display_name": "Python 3",
      "name": "python3"
    },
    "language_info": {
      "name": "python"
    }
  },
  "nbformat": 4,
  "nbformat_minor": 0
}
